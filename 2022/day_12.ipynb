{
 "cells": [
  {
   "cell_type": "markdown",
   "id": "79bb7d3c-88d8-48e4-ae87-4c044f3893d4",
   "metadata": {},
   "source": [
    "--- Day 12: Hill Climbing Algorithm ---\n",
    "\n",
    "You try contacting the Elves using your handheld device, but the river you're following must be too low to get a decent signal.\n",
    "\n",
    "You ask the device for a heightmap of the surrounding area (your puzzle input). The heightmap shows the local area from above broken into a grid; the elevation of each square of the grid is given by a single lowercase letter, where `a` is the lowest elevation, `b` is the next-lowest, and so on up to the highest elevation, `z`.\n",
    "\n",
    "Also included on the heightmap are marks for your current position (`S`) and the location that should get the best signal (`E`). Your current position (`S`) has elevation `a`, and the location that should get the best signal (`E`) has elevation `z`.\n",
    "\n",
    "You'd like to reach `E`, but to save energy, you should do it in **as few steps as possible**. During each step, you can move exactly one square up, down, left, or right. To avoid needing to get out your climbing gear, the elevation of the destination square can be **at most one higher** than the elevation of your current square; that is, if your current elevation is `m`, you could step to elevation `n`, but not to elevation `o`. (This also means that the elevation of the destination square can be much lower than the elevation of your current square.)\n",
    "\n",
    "For example:\n",
    "```\n",
    "Sabqponm\n",
    "abcryxxl\n",
    "accszExk\n",
    "acctuvwj\n",
    "abdefghi\n",
    "```\n",
    "Here, you start in the top-left corner; your goal is near the middle. You could start by moving down or right, but eventually you'll need to head toward the `e` at the bottom. From there, you can spiral around to the goal:\n",
    "```\n",
    "v..v<<<<\n",
    ">v.vv<<^\n",
    ".>vv>E^^\n",
    "..v>>>^^\n",
    "..>>>>>^\n",
    "```\n",
    "In the above diagram, the symbols indicate whether the path exits each square moving up (`^`), down (`v`), left (`<`), or right (`>`). The location that should get the best signal is still `E`, and . marks unvisited squares.\n",
    "\n",
    "This path reaches the goal in **`31`** steps, the fewest possible.\n",
    "\n",
    "**What is the fewest steps required to move from your current position to the location that should get the best signal?**"
   ]
  },
  {
   "cell_type": "code",
   "execution_count": 1,
   "id": "b32e30ca-e118-495b-b6a8-201086afca66",
   "metadata": {},
   "outputs": [],
   "source": [
    "# Data Load\n",
    "example_lines = [\n",
    "    \"Sabqponm\",\n",
    "    \"abcryxxl\",\n",
    "    \"accszExk\",\n",
    "    \"acctuvwj\",\n",
    "    \"abdefghi\",\n",
    "]\n",
    "\n",
    "with open(\"day_12_input.txt\") as _file:\n",
    "    data_lines = _file.readlines()"
   ]
  },
  {
   "cell_type": "code",
   "execution_count": 2,
   "id": "7eb763cc-9ea6-47d2-a08b-7170f6bc5317",
   "metadata": {},
   "outputs": [],
   "source": [
    "# Common Code\n",
    "from __future__ import annotations\n",
    "\n",
    "import sys\n",
    "import typing\n",
    "\n",
    "\n",
    "class Directions:\n",
    "    Left = \"<\"\n",
    "    Right = \">\"\n",
    "    Up = \"^\"\n",
    "    Down = \"v\"\n",
    "\n",
    "    @classmethod\n",
    "    def all(cls):\n",
    "        return [cls.Left, cls.Right, cls.Up, cls.Down]\n",
    "\n",
    "\n",
    "class HeightCell:\n",
    "    _START_SYMBOL = \"S\"\n",
    "    _END_SYMBOL = \"E\"\n",
    "\n",
    "    def __init__(self, symbol, value):\n",
    "        self._symbol = symbol\n",
    "        self._value = value\n",
    "\n",
    "        self._neighbors: dict[str, typing.Optional[HeightCell]] = dict([direction, None] for direction in Directions.all())\n",
    "\n",
    "        self.steps_to_end = sys.maxsize\n",
    "        self.next_step_to_end: typing.Optional[HeightCell] = None\n",
    "\n",
    "    def __str__(self):\n",
    "        return self._symbol\n",
    "\n",
    "    def __repr__(self):\n",
    "        return str(self)\n",
    "\n",
    "    @property\n",
    "    def is_start(self):\n",
    "        return self._symbol == self._START_SYMBOL\n",
    "\n",
    "    @property\n",
    "    def is_end(self):\n",
    "        return self._symbol == self._END_SYMBOL\n",
    "\n",
    "    @classmethod\n",
    "    def parse(cls, symbol):\n",
    "        value = symbol\n",
    "\n",
    "        if symbol == cls._START_SYMBOL:\n",
    "            value = \"a\"\n",
    "        elif symbol == cls._END_SYMBOL:\n",
    "            value = \"z\"\n",
    "\n",
    "        return cls(symbol, ord(value))\n",
    "\n",
    "    def set_neighbor(self, direction, neighbor: HeightCell):\n",
    "        self._neighbors[direction] = neighbor\n",
    "\n",
    "    def get_neighbors(self) -> list[HeightCell]:\n",
    "        return [x for x in self._neighbors.values() if x]\n",
    "\n",
    "    def can_climb_to(self, other: HeightCell):\n",
    "        return other._value - self._value <= 1\n",
    "\n",
    "\n",
    "class Grid:\n",
    "    def __init__(self, start: HeightCell, end: HeightCell, grid: list[list[HeightCell]]):\n",
    "        self._start = start\n",
    "        self._end = end\n",
    "        self._grid = grid\n",
    "\n",
    "    def find_path(self):\n",
    "        def _find_path(target: HeightCell):\n",
    "            steps_to_end = target.steps_to_end + 1\n",
    "\n",
    "            neighbors = target.get_neighbors()\n",
    "\n",
    "            neighbors_that_can_climb = [x for x in neighbors if x.can_climb_to(target)]\n",
    "\n",
    "            for neighbor in neighbors_that_can_climb:\n",
    "                if neighbor.is_end:\n",
    "                    continue\n",
    "\n",
    "                if not neighbor.next_step_to_end or neighbor.steps_to_end > steps_to_end:\n",
    "                    neighbor.next_step_to_end = target\n",
    "                    neighbor.steps_to_end = steps_to_end\n",
    "                    _find_path(neighbor)\n",
    "\n",
    "        self._end.steps_to_end = 0\n",
    "        _find_path(self._end)\n",
    "\n",
    "    def get_moves_from_start_to_end(self):\n",
    "        return self._start.steps_to_end\n",
    "\n",
    "    @classmethod\n",
    "    def parse(cls, lines):\n",
    "        end = None\n",
    "        start = None\n",
    "\n",
    "        grid: list[list[HeightCell]] = []\n",
    "\n",
    "        for line in lines:\n",
    "            grid_line = []\n",
    "            for symbol in line.strip():\n",
    "                cell = HeightCell.parse(symbol)\n",
    "                if cell.is_start:\n",
    "                    start = cell\n",
    "                elif cell.is_end:\n",
    "                    end = cell\n",
    "\n",
    "                grid_line.append(cell)\n",
    "            grid.append(grid_line)\n",
    "\n",
    "        if not start or not end:\n",
    "            raise RuntimeError(\"Neither start nor end found\")\n",
    "\n",
    "        height = len(grid)\n",
    "        width = len(grid[0])\n",
    "\n",
    "        for j, row in enumerate(grid):\n",
    "            for i, cell in enumerate(row):\n",
    "                if j > 0:\n",
    "                    cell.set_neighbor(Directions.Up, grid[j - 1][i])\n",
    "                if j < height - 1:\n",
    "                    cell.set_neighbor(Directions.Down, grid[j + 1][i])\n",
    "                if i > 0:\n",
    "                    cell.set_neighbor(Directions.Left, grid[j][i - 1])\n",
    "                if i < width - 1:\n",
    "                    cell.set_neighbor(Directions.Right, grid[j][i + 1])\n",
    "\n",
    "        return cls(start, end, grid)\n"
   ]
  },
  {
   "cell_type": "code",
   "execution_count": 3,
   "id": "4ba36b4b-d872-4978-bf0f-ea6f83609aae",
   "metadata": {},
   "outputs": [
    {
     "name": "stdout",
     "output_type": "stream",
     "text": [
      "31 31\n"
     ]
    }
   ],
   "source": [
    "# Solution 1 Code\n",
    "def solution_1(lines):\n",
    "    grid = Grid.parse(lines)\n",
    "    grid.find_path()\n",
    "\n",
    "    return grid.get_moves_from_start_to_end()\n",
    "\n",
    "\n",
    "def test_solution_1():\n",
    "    actual = solution_1(example_lines)\n",
    "    expected = 31\n",
    "\n",
    "    print(actual, expected)\n",
    "    assert actual == expected\n",
    "test_solution_1()"
   ]
  },
  {
   "cell_type": "code",
   "execution_count": 4,
   "id": "ada565cf-1314-4ee5-92fb-b76c8697ddd1",
   "metadata": {},
   "outputs": [
    {
     "data": {
      "text/plain": [
       "484"
      ]
     },
     "execution_count": 4,
     "metadata": {},
     "output_type": "execute_result"
    }
   ],
   "source": [
    "# Solution 1\n",
    "solution_1(data_lines)"
   ]
  },
  {
   "cell_type": "markdown",
   "id": "7c86f425-6d47-42b0-97c5-73b587e093c7",
   "metadata": {},
   "source": [
    "_Problem 2_"
   ]
  },
  {
   "cell_type": "code",
   "execution_count": 5,
   "id": "14c964f3-ed3a-4f05-81b2-83ef47dd964d",
   "metadata": {},
   "outputs": [
    {
     "name": "stdout",
     "output_type": "stream",
     "text": [
      " \n"
     ]
    }
   ],
   "source": [
    "# Solution 2 Code\n",
    "def solution_2(lines):\n",
    "    return \"\"\n",
    "\n",
    "def test_solution_2():\n",
    "    actual = solution_2(example_lines)\n",
    "    expected = \"\"\n",
    "    \n",
    "    print(actual, expected)\n",
    "    assert actual == expected\n",
    "test_solution_2()"
   ]
  },
  {
   "cell_type": "code",
   "execution_count": 6,
   "id": "93bf491b-f78b-43e5-bc95-d2e98a88a348",
   "metadata": {
    "tags": []
   },
   "outputs": [
    {
     "data": {
      "text/plain": [
       "''"
      ]
     },
     "execution_count": 6,
     "metadata": {},
     "output_type": "execute_result"
    }
   ],
   "source": [
    "# Solution 2\n",
    "solution_2(data_lines)"
   ]
  }
 ],
 "metadata": {
  "kernelspec": {
   "display_name": "Python 3 (ipykernel)",
   "language": "python",
   "name": "python3"
  },
  "language_info": {
   "codemirror_mode": {
    "name": "ipython",
    "version": 3
   },
   "file_extension": ".py",
   "mimetype": "text/x-python",
   "name": "python",
   "nbconvert_exporter": "python",
   "pygments_lexer": "ipython3",
   "version": "3.10.4"
  }
 },
 "nbformat": 4,
 "nbformat_minor": 5
}
