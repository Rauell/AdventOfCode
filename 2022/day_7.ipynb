{
 "cells": [
  {
   "cell_type": "markdown",
   "id": "79bb7d3c-88d8-48e4-ae87-4c044f3893d4",
   "metadata": {},
   "source": [
    "--- Day 7: No Space Left On Device ---\n",
    "\n",
    "You can hear birds chirping and raindrops hitting leaves as the expedition proceeds. Occasionally, you can even hear much louder sounds in the distance; how big do the animals get out here, anyway?\n",
    "\n",
    "The device the Elves gave you has problems with more than just its communication system. You try to run a system update:\n",
    "```\n",
    "$ system-update --please --pretty-please-with-sugar-on-top\n",
    "Error: No space left on device\n",
    "```\n",
    "Perhaps you can delete some files to make space for the update?\n",
    "\n",
    "You browse around the filesystem to assess the situation and save the resulting terminal output (your puzzle input). For example:\n",
    "```\n",
    "$ cd /\n",
    "$ ls\n",
    "dir a\n",
    "14848514 b.txt\n",
    "8504156 c.dat\n",
    "dir d\n",
    "$ cd a\n",
    "$ ls\n",
    "dir e\n",
    "29116 f\n",
    "2557 g\n",
    "62596 h.lst\n",
    "$ cd e\n",
    "$ ls\n",
    "584 i\n",
    "$ cd ..\n",
    "$ cd ..\n",
    "$ cd d\n",
    "$ ls\n",
    "4060174 j\n",
    "8033020 d.log\n",
    "5626152 d.ext\n",
    "7214296 k\n",
    "```\n",
    "The filesystem consists of a tree of files (plain data) and directories (which can contain other directories or files). The outermost directory is called /. You can navigate around the filesystem, moving into or out of directories and listing the contents of the directory you're currently in.\n",
    "\n",
    "Within the terminal output, lines that begin with `$` are **commands you executed**, very much like some modern computers:\n",
    "\n",
    "- `cd` means **change directory**. This changes which directory is the current directory, but the specific result depends on the argument:\n",
    "  - `cd x` moves **in** one level: it looks in the current directory for the directory named `x` and makes it the current directory.\n",
    "  - `cd ..` moves **out** one level: it finds the directory that contains the current directory, then makes that directory the current directory.\n",
    "  - `cd /` switches the current directory to the outermost directory, `/`.\n",
    "- `ls` means **list**. It prints out all of the files and directories immediately contained by the current directory:\n",
    "  - `123 abc` means that the current directory contains a file named `abc` with size `123`.\n",
    "  - `dir xyz` means that the current directory contains a directory named `xyz`.\n",
    "Given the commands and output in the example above, you can determine that the filesystem looks visually like this:\n",
    "```\n",
    "- / (dir)\n",
    "  - a (dir)\n",
    "    - e (dir)\n",
    "      - i (file, size=584)\n",
    "    - f (file, size=29116)\n",
    "    - g (file, size=2557)\n",
    "    - h.lst (file, size=62596)\n",
    "  - b.txt (file, size=14848514)\n",
    "  - c.dat (file, size=8504156)\n",
    "  - d (dir)\n",
    "    - j (file, size=4060174)\n",
    "    - d.log (file, size=8033020)\n",
    "    - d.ext (file, size=5626152)\n",
    "    - k (file, size=7214296)\n",
    "```\n",
    "Here, there are four directories: `/` (the outermost directory), `a` and `d` (which are in `/`), and `e` (which is in `a`). These directories also contain files of various sizes.\n",
    "\n",
    "Since the disk is full, your first step should probably be to find directories that are good candidates for deletion. To do this, you need to determine the **total size** of each directory. The total size of a directory is the sum of the sizes of the files it contains, directly or indirectly. (Directories themselves do not count as having any intrinsic size.)\n",
    "\n",
    "The total sizes of the directories above can be found as follows:\n",
    "\n",
    "- The total size of directory `e` is **584** because it contains a single file i of size 584 and no other directories.\n",
    "- The directory `a` has total size **94853** because it contains files `f` (size 29116), `g` (size 2557), and `h.lst` (size 62596), plus file `i` indirectly (`a` contains `e` which contains `i`).\n",
    "- Directory d has total size **24933642**.\n",
    "- As the outermost directory, `/` contains every file. Its total size is **48381165**, the sum of the size of every file.\n",
    "To begin, find all of the directories with a total size of **at most 100000**, then calculate the sum of their total sizes. In the example above, these directories are `a` and `e`; the sum of their total sizes is **95437** (94853 + 584). (As in this example, this process can count files more than once!)\n",
    "\n",
    "Find all of the directories with a total size of at most 100000. **What is the sum of the total sizes of those directories?**"
   ]
  },
  {
   "cell_type": "code",
   "execution_count": 1,
   "id": "b32e30ca-e118-495b-b6a8-201086afca66",
   "metadata": {},
   "outputs": [],
   "source": [
    "# Data Load\n",
    "example_lines = [\n",
    "    \"$ cd /\",\n",
    "    \"$ ls\",\n",
    "    \"dir a\",\n",
    "    \"14848514 b.txt\",\n",
    "    \"8504156 c.dat\",\n",
    "    \"dir d\",\n",
    "    \"$ cd a\",\n",
    "    \"$ ls\",\n",
    "    \"dir e\",\n",
    "    \"29116 f\",\n",
    "    \"2557 g\",\n",
    "    \"62596 h.lst\",\n",
    "    \"$ cd e\",\n",
    "    \"$ ls\",\n",
    "    \"584 i\",\n",
    "    \"$ cd ..\",\n",
    "    \"$ cd ..\",\n",
    "    \"$ cd d\",\n",
    "    \"$ ls\",\n",
    "    \"4060174 j\",\n",
    "    \"8033020 d.log\",\n",
    "    \"5626152 d.ext\",\n",
    "    \"7214296 k\",\n",
    "]\n",
    "\n",
    "with open(\"day_7_input.txt\") as _file:\n",
    "    data_lines = _file.readlines()"
   ]
  },
  {
   "cell_type": "code",
   "execution_count": 2,
   "id": "7eb763cc-9ea6-47d2-a08b-7170f6bc5317",
   "metadata": {},
   "outputs": [],
   "source": [
    "# Common Code\n",
    "import re\n",
    "\n",
    "class File:\n",
    "    def __init__(self, name, size):\n",
    "        self.name = name\n",
    "        self.size = size\n",
    "\n",
    "    def __repr__(self):\n",
    "        return self.name\n",
    "\n",
    "\n",
    "class Directory:\n",
    "    def __init__(self, name, parent=None):\n",
    "        self.name = name\n",
    "        self.parent = parent\n",
    "        self.files = []\n",
    "        self.dirs = []\n",
    "\n",
    "    def __repr__(self):\n",
    "        if self.parent:\n",
    "            path = self.parent.__repr__()\n",
    "            if path[-1] != \"/\":\n",
    "                path += \"/\"\n",
    "            return path + self.name\n",
    "        return \"/\"\n",
    "\n",
    "    @property\n",
    "    def size(self):\n",
    "        return sum([x.size for x in (self.dirs + self.files)])\n",
    "\n",
    "    @staticmethod\n",
    "    def get_root():\n",
    "        return Directory(\"\", None)\n",
    "\n",
    "    \n",
    "class Terminal:\n",
    "    class _TerminalRegex:\n",
    "        _COMMAND_START_PATTERN = r\"^\\$\\s+\"\n",
    "        _CD_COMMAND = rf\"{_COMMAND_START_PATTERN}cd\"\n",
    "        CD_UP = re.compile(rf\"{_CD_COMMAND}\\s+\\.\\.\\s*$\")\n",
    "        CD_ROOT = re.compile(rf\"{_CD_COMMAND}\\s+\\/\\s*$\")\n",
    "        CD_X = re.compile(rf\"{_CD_COMMAND}\\s+(?P<name>\\S+)\")\n",
    "        LS = re.compile(rf\"{_COMMAND_START_PATTERN}ls\")\n",
    "        LS_RESULT_DIR = re.compile(r\"^dir (?P<name>\\S+)\")\n",
    "        LS_RESULT_FILE = re.compile(r\"^(?P<size>\\d+) (?P<name>\\S+)\")\n",
    "\n",
    "    @classmethod\n",
    "    def parse(cls, lines, cwd=None):\n",
    "        root = Directory.get_root()\n",
    "\n",
    "        cwd = cwd if cwd else root\n",
    "\n",
    "        for line in lines:\n",
    "            if match := cls._TerminalRegex.LS_RESULT_DIR.search(line):\n",
    "                cwd.dirs.append(Directory(match.group(\"name\"), cwd))\n",
    "            elif match := cls._TerminalRegex.LS_RESULT_FILE.search(line):\n",
    "                cwd.files.append(File(match.group(\"name\"), int(match.group(\"size\"))))\n",
    "            elif cls._TerminalRegex.CD_ROOT.search(line):\n",
    "                cwd = root\n",
    "            elif cls._TerminalRegex.CD_UP.search(line):\n",
    "                cwd = cwd.parent\n",
    "            elif match := cls._TerminalRegex.CD_X.search(line):\n",
    "                target_name = match.group(\"name\")\n",
    "                new_dir = next(filter(lambda x: x.name == target_name, cwd.dirs))\n",
    "                if not new_dir:\n",
    "                    raise RuntimeError(f\"Could not find child directory: {target_name}\")\n",
    "                cwd = new_dir\n",
    "            elif cls._TerminalRegex.LS.search(line):\n",
    "                pass\n",
    "            else:\n",
    "                raise RuntimeError(f\"Unexpected line detected: {line}\")\n",
    "\n",
    "        return root\n",
    "\n",
    "def get_dirs_that(directory, method=lambda x: True) -> list[Directory]:\n",
    "    dirs = []\n",
    "\n",
    "    if method(directory):\n",
    "        dirs.append(directory)\n",
    "\n",
    "    dirs += [y for x in directory.dirs for y in get_dirs_that(x, method)]\n",
    "\n",
    "    return dirs"
   ]
  },
  {
   "cell_type": "code",
   "execution_count": 3,
   "id": "4ba36b4b-d872-4978-bf0f-ea6f83609aae",
   "metadata": {},
   "outputs": [
    {
     "name": "stdout",
     "output_type": "stream",
     "text": [
      "95437 95437\n"
     ]
    }
   ],
   "source": [
    "# Solution 1 Code\n",
    "def solution_1(lines):\n",
    "    root_dir = Terminal.parse(lines)\n",
    "\n",
    "    matching_dirs = get_dirs_that(root_dir, lambda x: x.size <= 100_000)\n",
    "\n",
    "    return sum(x.size for x in matching_dirs)\n",
    "\n",
    "def test_solution_1():\n",
    "    actual = solution_1(example_lines)\n",
    "    expected = 95437\n",
    "    \n",
    "    print(actual, expected)\n",
    "    assert actual == expected\n",
    "test_solution_1()"
   ]
  },
  {
   "cell_type": "code",
   "execution_count": 4,
   "id": "ada565cf-1314-4ee5-92fb-b76c8697ddd1",
   "metadata": {},
   "outputs": [
    {
     "data": {
      "text/plain": [
       "2031851"
      ]
     },
     "execution_count": 4,
     "metadata": {},
     "output_type": "execute_result"
    }
   ],
   "source": [
    "# Solution 1\n",
    "solution_1(data_lines)"
   ]
  },
  {
   "cell_type": "markdown",
   "id": "7c86f425-6d47-42b0-97c5-73b587e093c7",
   "metadata": {},
   "source": [
    "_Problem 2_"
   ]
  },
  {
   "cell_type": "code",
   "execution_count": 5,
   "id": "14c964f3-ed3a-4f05-81b2-83ef47dd964d",
   "metadata": {},
   "outputs": [],
   "source": [
    "# Solution 2 Code\n",
    "def solution_2(lines):\n",
    "    return \"\"\n",
    "\n",
    "def test_solution_2():\n",
    "    actual = solution_2(example_lines)\n",
    "    expected = \"\"\n",
    "    \n",
    "    assert actual == expected\n",
    "test_solution_2()"
   ]
  },
  {
   "cell_type": "code",
   "execution_count": 6,
   "id": "93bf491b-f78b-43e5-bc95-d2e98a88a348",
   "metadata": {
    "tags": []
   },
   "outputs": [
    {
     "data": {
      "text/plain": [
       "''"
      ]
     },
     "execution_count": 6,
     "metadata": {},
     "output_type": "execute_result"
    }
   ],
   "source": [
    "# Solution 2\n",
    "solution_2(data_lines)"
   ]
  }
 ],
 "metadata": {
  "kernelspec": {
   "display_name": "Python 3 (ipykernel)",
   "language": "python",
   "name": "python3"
  },
  "language_info": {
   "codemirror_mode": {
    "name": "ipython",
    "version": 3
   },
   "file_extension": ".py",
   "mimetype": "text/x-python",
   "name": "python",
   "nbconvert_exporter": "python",
   "pygments_lexer": "ipython3",
   "version": "3.10.4"
  }
 },
 "nbformat": 4,
 "nbformat_minor": 5
}
