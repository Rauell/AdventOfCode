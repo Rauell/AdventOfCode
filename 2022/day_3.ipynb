{
 "cells": [
  {
   "cell_type": "markdown",
   "id": "a2eaa20f-1d86-439d-8da6-d3ef1b454bf4",
   "metadata": {},
   "source": [
    "--- Day 3: Rucksack Reorganization ---\n",
    "\n",
    "One Elf has the important job of loading all of the [rucksacks](https://en.wikipedia.org/wiki/Rucksack) with supplies for the jungle journey. Unfortunately, that Elf didn't quite follow the packing instructions, and so a few items now need to be rearranged.\n",
    "\n",
    "Each rucksack has two large **compartments**. All items of a given type are meant to go into exactly one of the two compartments. The Elf that did the packing failed to follow this rule for exactly one item type per rucksack.\n",
    "\n",
    "The Elves have made a list of all of the items currently in each rucksack (your puzzle input), but they need your help finding the errors. Every item type is identified by a single lowercase or uppercase letter (that is, a and A refer to different types of items).\n",
    "\n",
    "The list of items for each rucksack is given as characters all on a single line. A given rucksack always has the same number of items in each of its two compartments, so the first half of the characters represent items in the first compartment, while the second half of the characters represent items in the second compartment.\n",
    "\n",
    "For example, suppose you have the following list of contents from six rucksacks:\n",
    "```\n",
    "vJrwpWtwJgWrhcsFMMfFFhFp\n",
    "jqHRNqRjqzjGDLGLrsFMfFZSrLrFZsSL\n",
    "PmmdzqPrVvPwwTWBwg\n",
    "wMqvLMZHhHMvwLHjbvcjnnSBnvTQFn\n",
    "ttgJtRGJQctTZtZT\n",
    "CrZsJsPPZsGzwwsLwLmpwMDw\n",
    "```\n",
    "- The first rucksack contains the items `vJrwpWtwJgWrhcsFMMfFFhFp`, which means its first compartment contains the items `vJrwpWtwJgWr`, while the second compartment contains the items `hcsFMMfFFhFp`. The only item type that appears in both compartments is lowercase `p`.\n",
    "- The second rucksack's compartments contain `jqHRNqRjqzjGDLGL` and `rsFMfFZSrLrFZsSL`. The only item type that appears in both compartments is uppercase `L`.\n",
    "- The third rucksack's compartments contain `PmmdzqPrV` and `vPwwTWBwg`; the only common item type is uppercase `P`.\n",
    "- The fourth rucksack's compartments only share item type `v`.\n",
    "- The fifth rucksack's compartments only share item type `t`.\n",
    "- The sixth rucksack's compartments only share item type `s`.\n",
    "To help prioritize item rearrangement, every item type can be converted to a **priority**:\n",
    "\n",
    "-Lowercase item types `a` through `z` have priorities `1` through `26`.\n",
    "-Uppercase item types `A` through `Z` have priorities `27` through `52`.\n",
    "In the above example, the priority of the item type that appears in both compartments of each rucksack is `16` (`p`), `38` (`L`), `42` (`P`), `22` (`v`), `20` (`t`), and `19` (`s`); the sum of these is `157`.\n",
    "\n",
    "Find the item type that appears in both compartments of each rucksack. **What is the sum of the priorities of those item types?**"
   ]
  },
  {
   "cell_type": "code",
   "execution_count": 1,
   "id": "3b90daa1-6ded-4a86-b643-74bffea698f8",
   "metadata": {},
   "outputs": [],
   "source": [
    "example_input = [\n",
    "    \"vJrwpWtwJgWrhcsFMMfFFhFp\",\n",
    "    \"jqHRNqRjqzjGDLGLrsFMfFZSrLrFZsSL\",\n",
    "    \"PmmdzqPrVvPwwTWBwg\",\n",
    "    \"wMqvLMZHhHMvwLHjbvcjnnSBnvTQFn\",\n",
    "    \"ttgJtRGJQctTZtZT\",\n",
    "    \"CrZsJsPPZsGzwwsLwLmpwMDw\",\n",
    "]\n",
    "\n",
    "with open(\"day_3_input.txt\") as _file:\n",
    "    lines = _file.readlines()"
   ]
  },
  {
   "cell_type": "code",
   "execution_count": 2,
   "id": "2ce1d111-090f-4bb4-ac08-f7ab396e4e78",
   "metadata": {},
   "outputs": [],
   "source": [
    "# Common Code\n",
    "_a = ord('a')\n",
    "_z = ord('z')\n",
    "_A = ord('A')\n",
    "_Z = ord('Z')\n",
    "def item_to_priority(item):\n",
    "    priority = ord(item)\n",
    "    \n",
    "    if _a <= priority <= _z:\n",
    "        return priority - _a + 1\n",
    "    if _A <= priority <= _Z:\n",
    "        return priority - _A + 27\n",
    "    \n",
    "    raise RuntimeError(f\"Could not find priority for {item}\")"
   ]
  },
  {
   "cell_type": "code",
   "execution_count": 3,
   "id": "d8636cba-21cd-460d-9710-b62cef2c1c3f",
   "metadata": {},
   "outputs": [],
   "source": [
    "# Solution 1 Code\n",
    "def find_single_misplaced_item(rucksack):\n",
    "    left = rucksack[:len(rucksack)//2]\n",
    "    right = rucksack[len(rucksack)//2:]\n",
    "    \n",
    "    for item in left:\n",
    "        if item in right:\n",
    "            return item\n",
    "        \n",
    "def get_priorites_of_rucksacks(rucksacks):\n",
    "    return sum([item_to_priority(find_single_misplaced_item(x)) for x in rucksacks])\n",
    "\n",
    "def test_example_1(): \n",
    "    expected = 157\n",
    "    actual = get_priorites_of_rucksacks(example_input)\n",
    "    assert actual == expected\n",
    "test_example_1()"
   ]
  },
  {
   "cell_type": "code",
   "execution_count": 4,
   "id": "d4b57e46-3047-41a4-a9fd-e7b6f6015c29",
   "metadata": {},
   "outputs": [
    {
     "name": "stdout",
     "output_type": "stream",
     "text": [
      "8233\n"
     ]
    }
   ],
   "source": [
    "# Solution 1\n",
    "print(get_priorites_of_rucksacks(lines))"
   ]
  },
  {
   "cell_type": "markdown",
   "id": "446ff2b1-3051-455e-8c53-b708ce26e320",
   "metadata": {},
   "source": [
    "--- Part Two ---\n",
    "\n",
    "As you finish identifying the misplaced items, the Elves come to you with another issue.\n",
    "\n",
    "For safety, the Elves are divided into groups of three. Every Elf carries a badge that identifies their group. For efficiency, within each group of three Elves, the badge is the **only item type carried by all three Elves**. That is, if a group's badge is item type `B`, then all three Elves will have item type `B` somewhere in their rucksack, and at most two of the Elves will be carrying any other item type.\n",
    "\n",
    "The problem is that someone forgot to put this year's updated authenticity sticker on the badges. All of the badges need to be pulled out of the rucksacks so the new authenticity stickers can be attached.\n",
    "\n",
    "Additionally, nobody wrote down which item type corresponds to each group's badges. The only way to tell which item type is the right one is by finding the one item type that is `common between all three Elves` in each group.\n",
    "\n",
    "Every set of three lines in your list corresponds to a single group, but each group can have a different badge item type. So, in the above example, the first group's rucksacks are the first three lines:\n",
    "```\n",
    "vJrwpWtwJgWrhcsFMMfFFhFp\n",
    "jqHRNqRjqzjGDLGLrsFMfFZSrLrFZsSL\n",
    "PmmdzqPrVvPwwTWBwg\n",
    "```\n",
    "And the second group's rucksacks are the next three lines:\n",
    "```\n",
    "wMqvLMZHhHMvwLHjbvcjnnSBnvTQFn\n",
    "ttgJtRGJQctTZtZT\n",
    "CrZsJsPPZsGzwwsLwLmpwMDw\n",
    "```\n",
    "In the first group, the only item type that appears in all three rucksacks is lowercase `r`; this must be their badges. In the second group, their badge item type must be `Z`.\n",
    "\n",
    "Priorities for these items must still be found to organize the sticker attachment efforts: here, they are `18` (`r`) for the first group and `52` (`Z`) for the second group. The sum of these is `70`.\n",
    "\n",
    "Find the item type that corresponds to the badges of each three-Elf group. **What is the sum of the priorities of those item types?**"
   ]
  },
  {
   "cell_type": "code",
   "execution_count": 5,
   "id": "b11677d8-6090-453f-959f-72c953e66c6f",
   "metadata": {},
   "outputs": [],
   "source": [
    "# Solution 2 Code\n",
    "_DEBUG=True\n",
    "def debug(*args):\n",
    "    if _DEBUG:\n",
    "        print(*args)\n",
    "        \n",
    "def find_badge(rucksacks):\n",
    "    source = rucksacks[0]\n",
    "    others = rucksacks[1:]\n",
    "    \n",
    "    source_data = {}\n",
    "    \n",
    "    def search_other(item, other):\n",
    "        return item in other\n",
    "            \n",
    "    for item in source:\n",
    "        if item not in source_data:\n",
    "            source_data[item] = True\n",
    "            \n",
    "            if all(search_other(item, x) for x in others):\n",
    "                return item\n",
    "    \n",
    "    debug(source_data, rucksacks)\n",
    "    raise RuntimeError(f\"Failed to find badge for: {rucksacks}\")\n",
    "            \n",
    "def find_badges_for_groups(rucksacks, N=3):\n",
    "    return [find_badge(rucksacks[i:i+N]) for i in range(0, len(rucksacks), N)]\n",
    "\n",
    "def find_total_priority_of_badges(rucksacks, N=3):\n",
    "    return sum(item_to_priority(x) for x in find_badges_for_groups(rucksacks, N))\n",
    "\n",
    "def test_solution_2():\n",
    "    expected = 70\n",
    "    actual = find_total_priority_of_badges(example_input)\n",
    "    assert actual == expected\n",
    "test_solution_2()"
   ]
  },
  {
   "cell_type": "code",
   "execution_count": 6,
   "id": "7f289aaa-efef-40eb-86bf-dee4c61f13eb",
   "metadata": {},
   "outputs": [
    {
     "name": "stdout",
     "output_type": "stream",
     "text": [
      "2821\n"
     ]
    }
   ],
   "source": [
    "# Solution 2\n",
    "print(find_total_priority_of_badges(lines))"
   ]
  }
 ],
 "metadata": {
  "kernelspec": {
   "display_name": "Python 3 (ipykernel)",
   "language": "python",
   "name": "python3"
  },
  "language_info": {
   "codemirror_mode": {
    "name": "ipython",
    "version": 3
   },
   "file_extension": ".py",
   "mimetype": "text/x-python",
   "name": "python",
   "nbconvert_exporter": "python",
   "pygments_lexer": "ipython3",
   "version": "3.10.4"
  }
 },
 "nbformat": 4,
 "nbformat_minor": 5
}
