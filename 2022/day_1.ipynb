{
 "cells": [
  {
   "cell_type": "markdown",
   "id": "5c055d50-265f-4234-ba7a-46ec0fdd3ead",
   "metadata": {},
   "source": [
    "--- Day 1: Calorie Counting ---\n",
    "\n",
    "Santa's reindeer typically eat regular reindeer food, but they need a lot of magical energy to deliver presents on Christmas. For that, their favorite snack is a special type of star fruit that only grows deep in the jungle. The Elves have brought you on their annual expedition to the grove where the fruit grows.\n",
    "\n",
    "To supply enough magical energy, the expedition needs to retrieve a minimum of fifty stars by December 25th. Although the Elves assure you that the grove has plenty of fruit, you decide to grab any fruit you see along the way, just in case.\n",
    "\n",
    "Collect stars by solving puzzles. Two puzzles will be made available on each day in the Advent calendar; the second puzzle is unlocked when you complete the first. Each puzzle grants one star. Good luck!\n",
    "\n",
    "The jungle must be too overgrown and difficult to navigate in vehicles or access from the air; the Elves' expedition traditionally goes on foot. As your boats approach land, the Elves begin taking inventory of their supplies. One important consideration is food - in particular, the number of Calories each Elf is carrying (your puzzle input).\n",
    "\n",
    "The Elves take turns writing down the number of Calories contained by the various meals, snacks, rations, etc. that they've brought with them, one item per line. Each Elf separates their own inventory from the previous Elf's inventory (if any) by a blank line.\n",
    "\n",
    "For example, suppose the Elves finish writing their items' Calories and end up with the following list:\n",
    "\n",
    "```\n",
    "1000\n",
    "2000\n",
    "3000\n",
    "\n",
    "4000\n",
    "\n",
    "5000\n",
    "6000\n",
    "\n",
    "7000\n",
    "8000\n",
    "9000\n",
    "\n",
    "10000\n",
    "```\n",
    "\n",
    "This list represents the Calories of the food carried by five Elves:\n",
    "\n",
    "- The first Elf is carrying food with 1000, 2000, and 3000 Calories, a total of 6000 Calories.\n",
    "- The second Elf is carrying one food item with 4000 Calories.\n",
    "- The third Elf is carrying food with 5000 and 6000 Calories, a total of 11000 Calories.\n",
    "- The fourth Elf is carrying food with 7000, 8000, and 9000 Calories, a total of 24000 Calories.\n",
    "- The fifth Elf is carrying one food item with 10000 Calories.\n",
    "\n",
    "In case the Elves get hungry and need extra snacks, they need to know which Elf to ask: they'd like to know how many Calories are being carried by the Elf carrying the most Calories. In the example above, this is 24000 (carried by the fourth Elf).\n",
    "\n",
    "Find the Elf carrying the most Calories. How many total Calories is that Elf carrying?\n"
   ]
  },
  {
   "cell_type": "code",
   "execution_count": 6,
   "id": "74b54114-0869-4e2c-bec8-c779cda95795",
   "metadata": {},
   "outputs": [],
   "source": [
    "class Elf:\n",
    "    _elf_count = 0\n",
    "\n",
    "    def __init__(self, total_calories):\n",
    "        Elf._elf_count += 1\n",
    "        self.id = Elf._elf_count\n",
    "        self.total_calories = total_calories\n",
    "\n",
    "    def __repr__(self):\n",
    "        return str(dict(id=self.id, total_calories=self.total_calories))\n",
    "    \n",
    "    def __eq__(self, other):\n",
    "        return self.total_calories == other.total_calories and self.id == other.id\n",
    "    \n",
    "    def __lt__(self, other):\n",
    "        if self.total_calories == other.total_calories:\n",
    "            return self.id < other.id\n",
    "        return self.total_calories < other.total_calories\n",
    "    \n",
    "    @staticmethod\n",
    "    def populate_from_lines(lines):\n",
    "        elves = []\n",
    "        total_calories = 0\n",
    "        \n",
    "        for line in lines:\n",
    "            line = line.strip()\n",
    "            if not line:\n",
    "                elves.append(Elf(total_calories))\n",
    "                total_calories = 0\n",
    "            else:\n",
    "                total_calories += int(line)\n",
    "        elves.append(Elf(total_calories))\n",
    "\n",
    "        return elves\n",
    "    \n",
    "def test():\n",
    "    input = [\n",
    "        \"1000\",\n",
    "        \"2000\",\n",
    "        \"3000\",\n",
    "        \"\",\n",
    "        \"4000\",\n",
    "        \"\",\n",
    "        \"5000\",\n",
    "        \"6000\",\n",
    "        \"\",\n",
    "        \"7000\",\n",
    "        \"8000\",\n",
    "        \"9000\",\n",
    "        \"\",\n",
    "        \"10000\",\n",
    "    ]\n",
    "    \n",
    "    elves = Elf.populate_from_lines(input)\n",
    "    elves.sort()\n",
    "    actual = [x.total_calories for x in elves]\n",
    "    \n",
    "    expected = sorted([6000, 4000, 11000, 24000, 10000])\n",
    "    assert actual == expected \n",
    "test()"
   ]
  },
  {
   "cell_type": "code",
   "execution_count": 8,
   "id": "f2833da2-e42e-4251-9482-13bb8bc8ee8a",
   "metadata": {},
   "outputs": [
    {
     "name": "stdout",
     "output_type": "stream",
     "text": [
      "{'id': 165, 'total_calories': 75501}\n"
     ]
    }
   ],
   "source": [
    "def solution1():\n",
    "    with open(\"./day_1_input.txt\") as file:\n",
    "        input = file.readlines()\n",
    "        \n",
    "    elves = Elf.populate_from_lines(input)\n",
    "    elves.sort(reverse=True)\n",
    "    print(elves[0])\n",
    "solution1()"
   ]
  },
  {
   "cell_type": "markdown",
   "id": "f2f04559-4959-4c30-987a-47f5cd8712b2",
   "metadata": {},
   "source": [
    "--- Part Two ---\n",
    "\n",
    "By the time you calculate the answer to the Elves' question, they've already realized that the Elf carrying the most Calories of food might eventually run out of snacks.\n",
    "\n",
    "To avoid this unacceptable situation, the Elves would instead like to know the total Calories carried by the top three Elves carrying the most Calories. That way, even if one of those Elves runs out of snacks, they still have two backups.\n",
    "\n",
    "In the example above, the top three Elves are the fourth Elf (with 24000 Calories), then the third Elf (with 11000 Calories), then the fifth Elf (with 10000 Calories). The sum of the Calories carried by these three elves is 45000.\n",
    "\n",
    "Find the top three Elves carrying the most Calories. How many Calories are those Elves carrying in total?"
   ]
  },
  {
   "cell_type": "code",
   "execution_count": 10,
   "id": "2ed9a240-b8a9-4b53-a7d2-088808504012",
   "metadata": {},
   "outputs": [
    {
     "name": "stdout",
     "output_type": "stream",
     "text": [
      "[{'id': 420, 'total_calories': 75501}, {'id': 389, 'total_calories': 70096}, {'id': 440, 'total_calories': 69997}] 215594\n"
     ]
    }
   ],
   "source": [
    "def solution2():\n",
    "    with open(\"./day_1_input.txt\") as file:\n",
    "        input = file.readlines()\n",
    "        \n",
    "    elves = Elf.populate_from_lines(input)\n",
    "    elves.sort(reverse=True)\n",
    "    \n",
    "    top_elves = elves[:3]\n",
    "    print(top_elves, sum([x.total_calories for x in top_elves]))\n",
    "solution2()"
   ]
  },
  {
   "cell_type": "code",
   "execution_count": null,
   "id": "0c076e35-b494-4a89-b903-b6686172b972",
   "metadata": {},
   "outputs": [],
   "source": []
  }
 ],
 "metadata": {
  "kernelspec": {
   "display_name": "Python 3 (ipykernel)",
   "language": "python",
   "name": "python3"
  },
  "language_info": {
   "codemirror_mode": {
    "name": "ipython",
    "version": 3
   },
   "file_extension": ".py",
   "mimetype": "text/x-python",
   "name": "python",
   "nbconvert_exporter": "python",
   "pygments_lexer": "ipython3",
   "version": "3.10.4"
  }
 },
 "nbformat": 4,
 "nbformat_minor": 5
}
