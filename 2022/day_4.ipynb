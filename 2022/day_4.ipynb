{
 "cells": [
  {
   "cell_type": "markdown",
   "id": "79bb7d3c-88d8-48e4-ae87-4c044f3893d4",
   "metadata": {},
   "source": [
    "--- Day 4: Camp Cleanup ---\n",
    "\n",
    "Space needs to be cleared before the last supplies can be unloaded from the ships, and so several Elves have been assigned the job of cleaning up sections of the camp. Every section has a unique **ID number**, and each Elf is assigned a range of section IDs.\n",
    "\n",
    "However, as some of the Elves compare their section assignments with each other, they've noticed that many of the assignments overlap. To try to quickly find overlaps and reduce duplicated effort, the Elves pair up and make a **big list of the section assignments for each pair** (your puzzle input).\n",
    "\n",
    "For example, consider the following list of section assignment pairs:\n",
    "```\n",
    "2-4,6-8\n",
    "2-3,4-5\n",
    "5-7,7-9\n",
    "2-8,3-7\n",
    "6-6,4-6\n",
    "2-6,4-8\n",
    "```\n",
    "For the first few pairs, this list means:\n",
    "\n",
    "- Within the first pair of Elves, the first Elf was assigned sections `2-4` (sections `2`, `3`, and `4`), while the second Elf was assigned sections `6-8` (sections `6`, `7`, `8`).\n",
    "0 The Elves in the second pair were each assigned two sections.\n",
    "- The Elves in the third pair were each assigned three sections: one got sections `5`, `6`, and `7`, while the other also got `7`, plus `8` and `9`.\n",
    "This example list uses single-digit section IDs to make it easier to draw; your actual list might contain larger numbers. Visually, these pairs of section assignments look like this:\n",
    "```\n",
    ".234.....  2-4\n",
    ".....678.  6-8\n",
    "\n",
    ".23......  2-3\n",
    "...45....  4-5\n",
    "\n",
    "....567..  5-7\n",
    "......789  7-9\n",
    "\n",
    ".2345678.  2-8\n",
    "..34567..  3-7\n",
    "\n",
    ".....6...  6-6\n",
    "...456...  4-6\n",
    "\n",
    ".23456...  2-6\n",
    "...45678.  4-8\n",
    "```\n",
    "Some of the pairs have noticed that one of their assignments **fully contains** the other. For example, `2-8` fully contains `3-7`, and `6-6` is fully contained by `4-6`. In pairs where one assignment fully contains the other, one Elf in the pair would be exclusively cleaning sections their partner will already be cleaning, so these seem like the most in need of reconsideration. In this example, there are **`2`** such pairs.\n",
    "\n",
    "**In how many assignment pairs does one range fully contain the other?**"
   ]
  },
  {
   "cell_type": "code",
   "execution_count": 2,
   "id": "b32e30ca-e118-495b-b6a8-201086afca66",
   "metadata": {},
   "outputs": [],
   "source": [
    "# Data Load\n",
    "example_lines = [\n",
    "    \"2-4,6-8\",\n",
    "    \"2-3,4-5\",\n",
    "    \"5-7,7-9\",\n",
    "    \"2-8,3-7\",\n",
    "    \"6-6,4-6\",\n",
    "    \"2-6,4-8\",\n",
    "]\n",
    "\n",
    "with open(\"day_4_input.txt\") as _file:\n",
    "    lines = _file.readlines()"
   ]
  },
  {
   "cell_type": "code",
   "execution_count": 4,
   "id": "7eb763cc-9ea6-47d2-a08b-7170f6bc5317",
   "metadata": {},
   "outputs": [],
   "source": [
    "# Common Code\n",
    "class ElfRange:\n",
    "    def __init__(self, start, stop):\n",
    "        self.start = start\n",
    "        self.stop = stop\n",
    "    \n",
    "    def contains(self, other):\n",
    "        other_inside = self.start <= other.start, other.stop <= self.stop\n",
    "        return all(other_inside)\n",
    "    \n",
    "    @staticmethod\n",
    "    def parse(text):\n",
    "        start, stop = [int(x) for x in text.split(\"-\")]\n",
    "        return ElfRange(start, stop)\n",
    "    \n",
    "    @staticmethod\n",
    "    def parse_pairs(line):\n",
    "        return (ElfRange.parse(x) for x in line.split(\",\"))"
   ]
  },
  {
   "cell_type": "code",
   "execution_count": 5,
   "id": "4ba36b4b-d872-4978-bf0f-ea6f83609aae",
   "metadata": {},
   "outputs": [],
   "source": [
    "# Solution 1 Code\n",
    "def count_fully_contained_pairs(lines):   \n",
    "    def filter_lines(line):\n",
    "        left, right = ElfRange.parse_pairs(line)\n",
    "        return left.contains(right) or right.contains(left)\n",
    "    \n",
    "    return len(list(filter(filter_lines, lines)))\n",
    "\n",
    "def test_solution_1():\n",
    "    expected = 2\n",
    "    actual = count_fully_contained_pairs(example_lines)\n",
    "    assert expected == actual\n",
    "test_solution_1()"
   ]
  },
  {
   "cell_type": "code",
   "execution_count": 6,
   "id": "ada565cf-1314-4ee5-92fb-b76c8697ddd1",
   "metadata": {},
   "outputs": [
    {
     "data": {
      "text/plain": [
       "562"
      ]
     },
     "execution_count": 6,
     "metadata": {},
     "output_type": "execute_result"
    }
   ],
   "source": [
    "# Solution 1\n",
    "count_fully_contained_pairs(lines)"
   ]
  },
  {
   "cell_type": "markdown",
   "id": "7c86f425-6d47-42b0-97c5-73b587e093c7",
   "metadata": {},
   "source": [
    "_Problem 2_"
   ]
  },
  {
   "cell_type": "code",
   "execution_count": 5,
   "id": "14c964f3-ed3a-4f05-81b2-83ef47dd964d",
   "metadata": {},
   "outputs": [],
   "source": [
    "# Solution 2 Code\n",
    "def test_solution_2():\n",
    "    pass\n",
    "test_solution_2()"
   ]
  },
  {
   "cell_type": "code",
   "execution_count": 6,
   "id": "93bf491b-f78b-43e5-bc95-d2e98a88a348",
   "metadata": {},
   "outputs": [],
   "source": [
    "# Solution 2"
   ]
  }
 ],
 "metadata": {
  "kernelspec": {
   "display_name": "Python 3 (ipykernel)",
   "language": "python",
   "name": "python3"
  },
  "language_info": {
   "codemirror_mode": {
    "name": "ipython",
    "version": 3
   },
   "file_extension": ".py",
   "mimetype": "text/x-python",
   "name": "python",
   "nbconvert_exporter": "python",
   "pygments_lexer": "ipython3",
   "version": "3.10.4"
  }
 },
 "nbformat": 4,
 "nbformat_minor": 5
}
