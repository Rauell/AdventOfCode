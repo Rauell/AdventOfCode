{
 "cells": [
  {
   "cell_type": "markdown",
   "id": "79bb7d3c-88d8-48e4-ae87-4c044f3893d4",
   "metadata": {},
   "source": [
    "_Problem 1_"
   ]
  },
  {
   "cell_type": "code",
   "execution_count": 1,
   "id": "691b30fc-386b-4363-b8b0-a904453553d0",
   "metadata": {},
   "outputs": [],
   "source": [
    "# Write Code here\n",
    "\n",
    "def test():\n",
    "    def _text_example_1():\n",
    "        pass\n",
    "    _text_example_1()\n",
    "    \n",
    "    def _text_example_2():\n",
    "        pass\n",
    "    _text_example_2()\n",
    "test()"
   ]
  },
  {
   "cell_type": "code",
   "execution_count": 2,
   "id": "b32e30ca-e118-495b-b6a8-201086afca66",
   "metadata": {},
   "outputs": [],
   "source": [
    "with open(\"day_1_input.txt\") as _file:\n",
    "    lines = _file.readlines()"
   ]
  },
  {
   "cell_type": "code",
   "execution_count": 3,
   "id": "ada565cf-1314-4ee5-92fb-b76c8697ddd1",
   "metadata": {},
   "outputs": [],
   "source": [
    "def solution1():\n",
    "    pass\n",
    "solution1()"
   ]
  },
  {
   "cell_type": "markdown",
   "id": "7c86f425-6d47-42b0-97c5-73b587e093c7",
   "metadata": {},
   "source": [
    "_Problem 2_"
   ]
  },
  {
   "cell_type": "code",
   "execution_count": 4,
   "id": "93bf491b-f78b-43e5-bc95-d2e98a88a348",
   "metadata": {},
   "outputs": [],
   "source": [
    "def solution2():\n",
    "    pass\n",
    "solution2()"
   ]
  }
 ],
 "metadata": {
  "kernelspec": {
   "display_name": "Python 3 (ipykernel)",
   "language": "python",
   "name": "python3"
  },
  "language_info": {
   "codemirror_mode": {
    "name": "ipython",
    "version": 3
   },
   "file_extension": ".py",
   "mimetype": "text/x-python",
   "name": "python",
   "nbconvert_exporter": "python",
   "pygments_lexer": "ipython3",
   "version": "3.10.4"
  }
 },
 "nbformat": 4,
 "nbformat_minor": 5
}
