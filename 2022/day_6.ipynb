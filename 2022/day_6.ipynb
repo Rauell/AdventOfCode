{
 "cells": [
  {
   "cell_type": "markdown",
   "id": "79bb7d3c-88d8-48e4-ae87-4c044f3893d4",
   "metadata": {},
   "source": [
    "--- Day 6: Tuning Trouble ---\n",
    "\n",
    "The preparations are finally complete; you and the Elves leave camp on foot and begin to make your way toward the **star** fruit grove.\n",
    "\n",
    "As you move through the dense undergrowth, one of the Elves gives you a handheld device. He says that it has many fancy features, but the most important one to set up right now is the **communication system**.\n",
    "\n",
    "However, because he's heard you have [significant](https://adventofcode.com/2016/day/6) [experience](https://adventofcode.com/2016/day/25) [dealing](https://adventofcode.com/2019/day/7) [with](https://adventofcode.com/2019/day/9) [signal-based](https://adventofcode.com/2019/day/16) [systems](https://adventofcode.com/2021/day/25), he convinced the other Elves that it would be okay to give you their one malfunctioning device - surely you'll have no problem fixing it.\n",
    "\n",
    "As if inspired by comedic timing, the device emits a few colorful sparks.\n",
    "\n",
    "To be able to communicate with the Elves, the device needs to **lock on to their signal**. The signal is a series of seemingly-random characters that the device receives one at a time.\n",
    "\n",
    "To fix the communication system, you need to add a subroutine to the device that detects a **start-of-packet marker** in the datastream. In the protocol being used by the Elves, the start of a packet is indicated by a sequence of **four characters that are all different**.\n",
    "\n",
    "The device will send your subroutine a datastream buffer (your puzzle input); your subroutine needs to identify the first position where the four most recently received characters were all different. Specifically, it needs to report the number of characters from the beginning of the buffer to the end of the first such four-character marker.\n",
    "\n",
    "For example, suppose you receive the following datastream buffer:\n",
    "\n",
    "`mjqjpqmgbljsphdztnvjfqwrcgsmlb`\n",
    "After the first three characters (`mjq`) have been received, there haven't been enough characters received yet to find the marker. The first time a marker could occur is after the fourth character is received, making the most recent four characters `mjqj`. Because `j` is repeated, this isn't a marker.\n",
    "\n",
    "The first time a marker appears is after the **seventh** character arrives. Once it does, the last four characters received are `jpqm`, which are all different. In this case, your subroutine should report the value `7`, because the first start-of-packet marker is complete after `7` characters have been processed.\n",
    "\n",
    "Here are a few more examples:\n",
    "\n",
    "- `bvwbjplbgvbhsrlpgdmjqwftvncz`: first marker after character `5`\n",
    "- `nppdvjthqldpwncqszvftbrmjlhg`: first marker after character `6`\n",
    "- `nznrnfrfntjfmvfwmzdfjlvtqnbhcprsg`: first marker after character `10`\n",
    "- `zcfzfwzzqfrljwzlrfnpqdbhtmscgvjw`: first marker after character `11`\n",
    "**How many characters need to be processed before the first start-of-packet marker is detected?**"
   ]
  },
  {
   "cell_type": "code",
   "execution_count": 1,
   "id": "b32e30ca-e118-495b-b6a8-201086afca66",
   "metadata": {},
   "outputs": [],
   "source": [
    "# Data Load\n",
    "example_lines = [\n",
    "    \"mjqjpqmgbljsphdztnvjfqwrcgsmlb\",\n",
    "    \"bvwbjplbgvbhsrlpgdmjqwftvncz\",\n",
    "    \"nppdvjthqldpwncqszvftbrmjlhg\",\n",
    "    \"nznrnfrfntjfmvfwmzdfjlvtqnbhcprsg\",\n",
    "    \"zcfzfwzzqfrljwzlrfnpqdbhtmscgvjw\",\n",
    "]\n",
    "\n",
    "with open(\"day_6_input.txt\") as _file:\n",
    "    data = _file.readline()"
   ]
  },
  {
   "cell_type": "code",
   "execution_count": 2,
   "id": "7eb763cc-9ea6-47d2-a08b-7170f6bc5317",
   "metadata": {},
   "outputs": [],
   "source": [
    "# Common Code"
   ]
  },
  {
   "cell_type": "code",
   "execution_count": 3,
   "id": "4ba36b4b-d872-4978-bf0f-ea6f83609aae",
   "metadata": {},
   "outputs": [
    {
     "name": "stdout",
     "output_type": "stream",
     "text": [
      "7 7\n",
      "5 5\n",
      "6 6\n",
      "10 10\n",
      "11 11\n"
     ]
    }
   ],
   "source": [
    "# Solution 1 Code\n",
    "from collections import Counter\n",
    "\n",
    "_PACKET_SIZE = 4\n",
    "\n",
    "def solution_1(line):\n",
    "    for i in range(len(line) - _PACKET_SIZE):\n",
    "        packet = line[i:i + _PACKET_SIZE]\n",
    "        \n",
    "        if all(x == 1 for x in Counter(packet).values()):\n",
    "            return i + _PACKET_SIZE\n",
    "    \n",
    "    raise RuntimeError(\"Did not find marker...\")\n",
    "\n",
    "def test_solution_1():\n",
    "    example_expected = [7, 5, 6, 10, 11]\n",
    "    for i, line in enumerate(example_lines):\n",
    "        actual = solution_1(line)\n",
    "        expected = example_expected[i]\n",
    "    \n",
    "        print(actual, expected)\n",
    "        assert actual == expected\n",
    "test_solution_1()"
   ]
  },
  {
   "cell_type": "code",
   "execution_count": 4,
   "id": "ada565cf-1314-4ee5-92fb-b76c8697ddd1",
   "metadata": {},
   "outputs": [
    {
     "data": {
      "text/plain": [
       "1723"
      ]
     },
     "execution_count": 4,
     "metadata": {},
     "output_type": "execute_result"
    }
   ],
   "source": [
    "# Solution 1\n",
    "solution_1(data)"
   ]
  },
  {
   "cell_type": "markdown",
   "id": "7c86f425-6d47-42b0-97c5-73b587e093c7",
   "metadata": {},
   "source": [
    "_Problem 2_"
   ]
  },
  {
   "cell_type": "code",
   "execution_count": 5,
   "id": "14c964f3-ed3a-4f05-81b2-83ef47dd964d",
   "metadata": {},
   "outputs": [],
   "source": [
    "# Solution 2 Code\n",
    "def solution_2(lines):\n",
    "    return \"\"\n",
    "\n",
    "def test_solution_2():\n",
    "    actual = solution_2(example_lines)\n",
    "    expected = \"\"\n",
    "    \n",
    "    assert actual == expected\n",
    "test_solution_2()"
   ]
  },
  {
   "cell_type": "code",
   "execution_count": 6,
   "id": "93bf491b-f78b-43e5-bc95-d2e98a88a348",
   "metadata": {
    "tags": []
   },
   "outputs": [
    {
     "data": {
      "text/plain": [
       "''"
      ]
     },
     "execution_count": 6,
     "metadata": {},
     "output_type": "execute_result"
    }
   ],
   "source": [
    "# Solution 2\n",
    "solution_2(data)"
   ]
  },
  {
   "cell_type": "code",
   "execution_count": null,
   "id": "991cf4b8-7c25-4d7c-839e-39f7fb21517f",
   "metadata": {},
   "outputs": [],
   "source": []
  }
 ],
 "metadata": {
  "kernelspec": {
   "display_name": "Python 3 (ipykernel)",
   "language": "python",
   "name": "python3"
  },
  "language_info": {
   "codemirror_mode": {
    "name": "ipython",
    "version": 3
   },
   "file_extension": ".py",
   "mimetype": "text/x-python",
   "name": "python",
   "nbconvert_exporter": "python",
   "pygments_lexer": "ipython3",
   "version": "3.10.4"
  }
 },
 "nbformat": 4,
 "nbformat_minor": 5
}
