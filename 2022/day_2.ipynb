{
 "cells": [
  {
   "cell_type": "markdown",
   "id": "6b9bb3ae-05d3-448d-9ec0-275158700077",
   "metadata": {},
   "source": [
    "--- Day 2: Rock Paper Scissors ---\n",
    "\n",
    "The Elves begin to set up camp on the beach. To decide whose tent gets to be closest to the snack storage, a giant Rock Paper Scissors tournament is already in progress.\n",
    "\n",
    "Rock Paper Scissors is a game between two players. Each game contains many rounds; in each round, the players each simultaneously choose one of Rock, Paper, or Scissors using a hand shape. Then, a winner for that round is selected: Rock defeats Scissors, Scissors defeats Paper, and Paper defeats Rock. If both players choose the same shape, the round instead ends in a draw.\n",
    "\n",
    "Appreciative of your help yesterday, one Elf gives you an encrypted strategy guide (your puzzle input) that they say will be sure to help you win. \"The first column is what your opponent is going to play: A for Rock, B for Paper, and C for Scissors. The second column--\" Suddenly, the Elf is called away to help with someone's tent.\n",
    "\n",
    "The second column, you reason, must be what you should play in response: X for Rock, Y for Paper, and Z for Scissors. Winning every time would be suspicious, so the responses must have been carefully chosen.\n",
    "\n",
    "The winner of the whole tournament is the player with the highest score. Your total score is the sum of your scores for each round. The score for a single round is the score for the shape you selected (1 for Rock, 2 for Paper, and 3 for Scissors) plus the score for the outcome of the round (0 if you lost, 3 if the round was a draw, and 6 if you won).\n",
    "\n",
    "Since you can't be sure if the Elf is trying to help you or trick you, you should calculate the score you would get if you were to follow the strategy guide.\n",
    "\n",
    "For example, suppose you were given the following strategy guide:\n",
    "```\n",
    "A Y\n",
    "B X\n",
    "C Z\n",
    "```\n",
    "This strategy guide predicts and recommends the following:\n",
    "\n",
    "- In the first round, your opponent will choose Rock (A), and you should choose Paper (Y). This ends in a win for you with a score of 8 (2 because you chose Paper + 6 because you won).\n",
    "- In the second round, your opponent will choose Paper (B), and you should choose Rock (X). This ends in a loss for you with a score of 1 (1 + 0).\n",
    "- The third round is a draw with both players choosing Scissors, giving you a score of 3 + 3 = 6.\n",
    "In this example, if you were to follow the strategy guide, you would get a total score of 15 (8 + 1 + 6).\n",
    "\n",
    "**What would your total score be if everything goes exactly according to your strategy guide?**"
   ]
  },
  {
   "cell_type": "code",
   "execution_count": 1,
   "id": "beedbf9b-c59b-4d33-92f2-001c88964ec4",
   "metadata": {},
   "outputs": [],
   "source": [
    "def _get_option(symbols, score):\n",
    "    class _Option:\n",
    "        SYMBOLS = symbols\n",
    "        SCORE = score\n",
    "        BEATS = None\n",
    "        \n",
    "        def __eq__(self, other):\n",
    "            return type(self) is type(other)\n",
    "        \n",
    "    return _Option\n",
    "\n",
    "Rock = _get_option((\"A\", \"X\"), 1)\n",
    "Paper = _get_option((\"B\", \"Y\"), 2)\n",
    "Scissors = _get_option((\"C\", \"Z\"), 3)\n",
    "\n",
    "_ALL_OPTIONS = (Rock, Paper, Scissors)\n",
    "_WINS = {\n",
    "    Rock: Scissors,\n",
    "    Paper: Rock,\n",
    "    Scissors: Paper\n",
    "}\n",
    "\n",
    "def parse_symbol(symbol):\n",
    "    for option in _ALL_OPTIONS:\n",
    "        if symbol in option.SYMBOLS:\n",
    "            return option\n",
    "    raise RuntimeError(f\"Unrecognized symbol: {symbol}\")\n",
    "\n",
    "def score_round(opponent, you):\n",
    "    opponent_score = opponent.SCORE\n",
    "    your_score = you.SCORE\n",
    "    \n",
    "    if opponent == you:\n",
    "        opponent_score += 3\n",
    "        your_score += 3\n",
    "    elif _WINS[you] == opponent:\n",
    "        your_score += 6\n",
    "    else:\n",
    "        opponent_score += 6\n",
    "    \n",
    "    return opponent_score, your_score\n",
    "\n",
    "def score_game(lines):\n",
    "    opponent_score = your_score = 0\n",
    "    \n",
    "    for line in lines:\n",
    "        symbols = line.split()\n",
    "        \n",
    "        opponent_round_score, your_round_score = score_round(*[parse_symbol(x) for x in symbols])\n",
    "        opponent_score += opponent_round_score\n",
    "        your_score += your_round_score\n",
    "        \n",
    "        # print(line, opponent_round_score, your_round_score)\n",
    "        \n",
    "    return opponent_score, your_score\n",
    "\n",
    "def test():\n",
    "    def _test_example():\n",
    "        lines = [\n",
    "            \"A Y\",\n",
    "            \"B X\",\n",
    "            \"C Z\",\n",
    "        ]\n",
    "        actual = score_game(lines)\n",
    "        expected = (15, 15)\n",
    "        assert actual == expected\n",
    "    _test_example()\n",
    "        \n",
    "    def _test_values():\n",
    "        assert score_game([\"A X\"]) == (4, 4)\n",
    "        assert score_game([\"A Y\"]) == (1, 8)\n",
    "        assert score_game([\"A Z\"]) == (7, 3)\n",
    "        assert score_game([\"B X\"]) == (8, 1)\n",
    "        assert score_game([\"B Y\"]) == (5, 5)\n",
    "        assert score_game([\"B Z\"]) == (2, 9)\n",
    "        assert score_game([\"C X\"]) == (3, 7)\n",
    "        assert score_game([\"C Y\"]) == (9, 2)\n",
    "        assert score_game([\"C Z\"]) == (6, 6)\n",
    "    _test_values()\n",
    "    \n",
    "test()    "
   ]
  },
  {
   "cell_type": "code",
   "execution_count": 2,
   "id": "03ec9cc4-39e1-4e4e-8222-7ce88c1595db",
   "metadata": {},
   "outputs": [],
   "source": [
    "with open(\"day_2_input.txt\") as _file:\n",
    "    day_2_input = _file.readlines()\n",
    "    "
   ]
  },
  {
   "cell_type": "code",
   "execution_count": 3,
   "id": "c78d95c2-3f9d-4950-ae6f-5e1ed1bbb042",
   "metadata": {},
   "outputs": [
    {
     "name": "stdout",
     "output_type": "stream",
     "text": [
      "(16114, 9241)\n"
     ]
    }
   ],
   "source": [
    "def solution1():\n",
    "    print(score_game(day_2_input))\n",
    "solution1()"
   ]
  },
  {
   "cell_type": "markdown",
   "id": "2a75da7c-7d06-40d8-8369-ec0a3ba2913e",
   "metadata": {},
   "source": []
  }
 ],
 "metadata": {
  "kernelspec": {
   "display_name": "Python 3 (ipykernel)",
   "language": "python",
   "name": "python3"
  },
  "language_info": {
   "codemirror_mode": {
    "name": "ipython",
    "version": 3
   },
   "file_extension": ".py",
   "mimetype": "text/x-python",
   "name": "python",
   "nbconvert_exporter": "python",
   "pygments_lexer": "ipython3",
   "version": "3.10.4"
  }
 },
 "nbformat": 4,
 "nbformat_minor": 5
}
