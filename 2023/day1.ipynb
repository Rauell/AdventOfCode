{
 "cells": [
  {
   "cell_type": "markdown",
   "id": "79bb7d3c-88d8-48e4-ae87-4c044f3893d4",
   "metadata": {},
   "source": [
    "# Day 1: Trebuchet?!\r\n",
    "\n",
    "Something is wrong with global snow production, and you've been selected to take a look. The Elves have even given you a map; on it, they've used stars to mark the top fifty locations that are likely to be having problems.\r\n",
    "\r\n",
    "You've been doing this long enough to know that to restore snow operations, you need to check a**ll fifty st**ars by December 25th.\r\n",
    "\r\n",
    "Collect stars by solving puzzles. Two puzzles will be made available on each day in the Advent calendar; the second puzzle is unlocked when you complete the first. Each puzzle gr**ants one** star. Good luck!\r\n",
    "\r\n",
    "You try to ask why they can't just[ use a weather ](https://adventofcode.com/2015/day/1)machine (\"not powerful enough\") and where they're even sending you (\"the sky\") and why your map looks mostly blank (\"you sure ask a lot of questions\") and hang on did you just say the sky (\"of course, where do you think snow comes from\") when you realize that the Elves are already loading you [into a tr](https://en.wikipedia.org/wiki/Trebuchet)ebuchet (\"please hold still, we need to strap you in\").\r\n",
    "\r\n",
    "As they're making the final adjustments, they discover that their calibration document (your puzzle input) **has bee**n amended by a very young Elf who was apparently just excited to show off her art skills. Consequently, the Elves are having trouble reading the values on the document.\r\n",
    "\r\n",
    "The newly-improved calibration document consists of lines of text; each line originally contained **a specific calibr**ation value that the Elves now need to recover. On each line, the calibration value can be found by com**bining the **first dig**it and the** last digit (in that order) to for**m a singl**e two-digit number.\r\n",
    "\r\n",
    "```For example:\r\n",
    "\r\n",
    "1abc2\r\n",
    "pqr3stu8vwx\r\n",
    "a1b2c\n",
    "```3d4e5f\r\n",
    "treb7uchet\r\n",
    "In this example, the calibration values of th`es`e `fo`ur` l`ines a`re` 12, 38, 15, and 77. Adding these` to`gether produces 142.\r\n",
    "\r\n",
    "Consider your entire c**alibration document. What is the sum of all of th**e calibration values?"
   ]
  },
  {
   "cell_type": "code",
   "execution_count": 1,
   "id": "b32e30ca-e118-495b-b6a8-201086afca66",
   "metadata": {},
   "outputs": [],
   "source": [
    "# Data Load\n",
    "example_lines = [\n",
    "    '1abc2',\n",
    "    'pqr3stu8vwx',\n",
    "    'a1b2c3d4e5f',\n",
    "    'treb7uchet',\n",
    "]\n",
    "\n",
    "with open(\"data/day1.txt\") as _file:\n",
    "    data_lines = _file.readlines()"
   ]
  },
  {
   "cell_type": "code",
   "execution_count": 2,
   "id": "7eb763cc-9ea6-47d2-a08b-7170f6bc5317",
   "metadata": {},
   "outputs": [],
   "source": [
    "ordinal_0 = ord('0') \n",
    "\n",
    "# Common Code\n",
    "def get_first_last_int(line: str):\n",
    "    values = [y for y in [ord(x) - ordinal_0 for x in line] if 0 <= y <= 9]\n",
    "    return 10*values[0] + values[-1]\n",
    "    "
   ]
  },
  {
   "cell_type": "code",
   "execution_count": 3,
   "id": "4ba36b4b-d872-4978-bf0f-ea6f83609aae",
   "metadata": {},
   "outputs": [
    {
     "name": "stdout",
     "output_type": "stream",
     "text": [
      "142 142\n"
     ]
    }
   ],
   "source": [
    "# Solution 1 Code\n",
    "def solution_1(lines) -> int:\n",
    "    return sum(get_first_last_int(line) for line in lines)\n",
    "\n",
    "def test_solution_1():\n",
    "    actual = solution_1(example_lines)\n",
    "    expected = 142\n",
    "    \n",
    "    print(actual, expected)\n",
    "    assert actual == expected\n",
    "test_solution_1()"
   ]
  },
  {
   "cell_type": "code",
   "execution_count": 4,
   "id": "ada565cf-1314-4ee5-92fb-b76c8697ddd1",
   "metadata": {},
   "outputs": [
    {
     "data": {
      "text/plain": [
       "56506"
      ]
     },
     "execution_count": 4,
     "metadata": {},
     "output_type": "execute_result"
    }
   ],
   "source": [
    "# Solution 1\n",
    "solution_1(data_lines)"
   ]
  },
  {
   "cell_type": "markdown",
   "id": "7c86f425-6d47-42b0-97c5-73b587e093c7",
   "metadata": {},
   "source": [
    "_Problem 2_"
   ]
  },
  {
   "cell_type": "code",
   "execution_count": 5,
   "id": "14c964f3-ed3a-4f05-81b2-83ef47dd964d",
   "metadata": {},
   "outputs": [
    {
     "name": "stdout",
     "output_type": "stream",
     "text": [
      " \n"
     ]
    }
   ],
   "source": [
    "# Solution 2 Code\n",
    "def solution_2(lines):\n",
    "    return \"\"\n",
    "\n",
    "def test_solution_2():\n",
    "    actual = solution_2(example_lines)\n",
    "    expected = \"\"\n",
    "    \n",
    "    print(actual, expected)\n",
    "    assert actual == expected\n",
    "test_solution_2()"
   ]
  },
  {
   "cell_type": "code",
   "execution_count": 6,
   "id": "93bf491b-f78b-43e5-bc95-d2e98a88a348",
   "metadata": {
    "tags": []
   },
   "outputs": [
    {
     "data": {
      "text/plain": [
       "''"
      ]
     },
     "execution_count": 6,
     "metadata": {},
     "output_type": "execute_result"
    }
   ],
   "source": [
    "# Solution 2\n",
    "solution_2(data_lines)"
   ]
  }
 ],
 "metadata": {
  "kernelspec": {
   "display_name": "Python 3 (ipykernel)",
   "language": "python",
   "name": "python3"
  },
  "language_info": {
   "codemirror_mode": {
    "name": "ipython",
    "version": 3
   },
   "file_extension": ".py",
   "mimetype": "text/x-python",
   "name": "python",
   "nbconvert_exporter": "python",
   "pygments_lexer": "ipython3",
   "version": "3.10.13"
  }
 },
 "nbformat": 4,
 "nbformat_minor": 5
}
