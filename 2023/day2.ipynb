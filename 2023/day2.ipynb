{
 "cells": [
  {
   "cell_type": "markdown",
   "id": "79bb7d3c-88d8-48e4-ae87-4c044f3893d4",
   "metadata": {},
   "source": [
    "--- Day 2: Cube Conundrum ---\r\n",
    "You're launched high into the atmosphere! The apex of your trajectory just barely reaches the surface of a large island floating in the sky. You gently land in a fluffy pile of leaves. It's quite cold, but you don't see much snow. An Elf runs over to greet you.\r\n",
    "\r\n",
    "The Elf explains that you've arrived at Snow Island and apologizes for the lack of snow. He'll be happy to explain the situation, but it's a bit of a walk, so you have some time. They don't get many visitors up here; would you like to play a game in the meantime?\r\n",
    "\r\n",
    "As you walk, the Elf shows you a small bag and some cubes which are either red, green, or blue. Each time you play this game, he will hide a secret number of cubes of each color in the bag, and your goal is to figure out information about the number of cubes.\r\n",
    "\r\n",
    "To get information, once a bag has been loaded with cubes, the Elf will reach into the bag, grab a handful of random cubes, show them to you, and then put them back in the bag. He'll do this a few times per game.\r\n",
    "\r\n",
    "You play several games and record the information from each game (your puzzle input). Each game is listed with its ID number (`li`ke t`he 11 in Gam`e 11: ...) followed by a semicolon-separated list of subsets of cubes that were revealed from the b`ag (like 3 red, 5 gree`n, 4 blue).\r\n",
    "\r\n",
    "For example, the record of a few games might look \n",
    "```like this:\r\n",
    "\r\n",
    "Game 1: 3 blue, 4 red; 1 red, 2 green, 6 blue; 2 green\r\n",
    "Game 2: 1 blue, 2 green; 3 green, 4 blue, 1 red; 1 green, 1 blue\r\n",
    "Game 3: 8 green, 6 blue, 20 red; 5 blue, 4 red, 13 green; 5 green, 1 red\r\n",
    "Game 4: 1 green, 3 red, 6 blue; 3 green, 6 red; 3 green, 15 blue, 14 red\r\n",
    "Game 5: 6 red, 1 blugreen; 2 blu\n",
    "```\n",
    "\n",
    "```\n",
    "e, 1 red, 2 green\r\n",
    "In game 1, three sets of cubes are revealed from the bag (and then put back again). The first set is 3 blue cubes and 4 red cubes; the second set is 1 red cube, 2 green cubes, and 6 blue cubes; the third set is only 2 green cubes.\r\n",
    "\r\n",
    "The Elf would first like to know which games would have been possible if the bag contained only 12 red cubes, 13 green cubes, and 14 blue cubes?\r\n",
    "\r\n",
    "In the example above, games 1, 2, and 5 would have been possible if the bag had been loaded with that configuration. However, game 3 would have been impossible because at one point the Elf showed you 20 red cubes at once; similarly, game 4 would also have been impossible because the Elf showed you 15 blue cubes at once. If you add up the IDs of the games that would have been possible, you get 8.\r\n",
    "\r\n",
    "Determine which games would have been possible if the bag had been loaded with only 12 red cubes, 13 green cubes, and 14 blue cubes. What is the sum of the IDs of those games?"
   ]
  },
  {
   "cell_type": "code",
   "execution_count": 1,
   "id": "b32e30ca-e118-495b-b6a8-201086afca66",
   "metadata": {},
   "outputs": [],
   "source": [
    "# Data Load\n",
    "example_lines = [\n",
    "    'Game 1: 3 blue, 4 red; 1 red, 2 green, 6 blue; 2 green',\n",
    "    'Game 2: 1 blue, 2 green; 3 green, 4 blue, 1 red; 1 green, 1 blue',\n",
    "    'Game 3: 8 green, 6 blue, 20 red; 5 blue, 4 red, 13 green; 5 green, 1 red',\n",
    "    'Game 4: 1 green, 3 red, 6 blue; 3 green, 6 red; 3 green, 15 blue, 14 red',\n",
    "    'Game 5: 6 red, 1 blue, 3 green; 2 blue, 1 red, 2 green',\n",
    "]\n",
    "\n",
    "with open(\"data/day2.txt\") as _file:\n",
    "    data_lines = _file.readlines()"
   ]
  },
  {
   "cell_type": "code",
   "execution_count": 2,
   "id": "7eb763cc-9ea6-47d2-a08b-7170f6bc5317",
   "metadata": {},
   "outputs": [],
   "source": [
    "from dataclasses import dataclass\n",
    "import re\n",
    "\n",
    "# Common Code\n",
    "\n",
    "@dataclass\n",
    "class CubeCount:\n",
    "    def __init__(self, name: str, count: int):\n",
    "        self.name = name\n",
    "        self.count = count\n",
    "\n",
    "    __parse_pattern = re.compile(r\"\\s*(?P<count>\\d+)\\s*(?P<name>\\w+)\")\n",
    "\n",
    "    @staticmethod\n",
    "    def parse(line: str):\n",
    "        match = CubeCount.__parse_pattern.match(line)\n",
    "\n",
    "        return CubeCount(match.group('name'), int(match.group('count')))\n",
    "\n",
    "class Game:\n",
    "    def __init__(self, id: int, counts: list[CubeCount]):\n",
    "        self.id = id\n",
    "        self._counts = {}\n",
    "\n",
    "        for count in counts:\n",
    "            if not count.name in self._counts:\n",
    "                self._counts[count.name] = []\n",
    "            self._counts[count.name].append(count)\n",
    "    \n",
    "    @staticmethod\n",
    "    def parse(line: str):\n",
    "        game_text, game_text_rest = line.split(\":\")\n",
    "\n",
    "        id = int(game_text.lstrip(\"Game \"))\n",
    "\n",
    "        counts = [\n",
    "            CubeCount.parse(x) \n",
    "            for round in game_text_rest.split(\";\")\n",
    "            for x in round.split(\",\")\n",
    "        ]\n",
    "\n",
    "        return Game(id, counts)\n",
    "\n",
    "    def of_name(self, name: str):\n",
    "        return self._counts.get(name, [CubeCount(name, 0)])\n",
    "        \n",
    "        "
   ]
  },
  {
   "cell_type": "code",
   "execution_count": 3,
   "id": "4ba36b4b-d872-4978-bf0f-ea6f83609aae",
   "metadata": {},
   "outputs": [
    {
     "name": "stdout",
     "output_type": "stream",
     "text": [
      "8 8\n"
     ]
    }
   ],
   "source": [
    "# Solution 1 Code\n",
    "def solution_1(lines):\n",
    "    max_counts = (\n",
    "        CubeCount(\"red\", 12),\n",
    "        CubeCount(\"green\", 13),\n",
    "        CubeCount(\"blue\", 14),\n",
    "    )\n",
    "\n",
    "    games = [Game.parse(line) for line in lines]\n",
    "\n",
    "    possible_games = [\n",
    "        game for game in games\n",
    "        if all(\n",
    "            rule.count >= max(x.count for x in game.of_name(rule.name))\n",
    "            for rule in max_counts\n",
    "        )\n",
    "    ]\n",
    "\n",
    "    return sum(x.id for x in possible_games)\n",
    "\n",
    "def test_solution_1():\n",
    "    actual = solution_1(example_lines)\n",
    "    expected = 8\n",
    "    \n",
    "    print(actual, expected)\n",
    "    assert actual == expected\n",
    "test_solution_1()"
   ]
  },
  {
   "cell_type": "code",
   "execution_count": 4,
   "id": "ada565cf-1314-4ee5-92fb-b76c8697ddd1",
   "metadata": {},
   "outputs": [
    {
     "data": {
      "text/plain": [
       "1734"
      ]
     },
     "execution_count": 4,
     "metadata": {},
     "output_type": "execute_result"
    }
   ],
   "source": [
    "# Solution 1\n",
    "solution_1(data_lines)"
   ]
  },
  {
   "cell_type": "markdown",
   "id": "7c86f425-6d47-42b0-97c5-73b587e093c7",
   "metadata": {},
   "source": [
    "_Problem 2_"
   ]
  },
  {
   "cell_type": "code",
   "execution_count": 5,
   "id": "14c964f3-ed3a-4f05-81b2-83ef47dd964d",
   "metadata": {},
   "outputs": [
    {
     "name": "stdout",
     "output_type": "stream",
     "text": [
      " \n"
     ]
    }
   ],
   "source": [
    "# Solution 2 Code\n",
    "def solution_2(lines):\n",
    "    return \"\"\n",
    "\n",
    "def test_solution_2():\n",
    "    actual = solution_2(example_lines)\n",
    "    expected = \"\"\n",
    "    \n",
    "    print(actual, expected)\n",
    "    assert actual == expected\n",
    "test_solution_2()"
   ]
  },
  {
   "cell_type": "code",
   "execution_count": 6,
   "id": "93bf491b-f78b-43e5-bc95-d2e98a88a348",
   "metadata": {
    "tags": []
   },
   "outputs": [
    {
     "data": {
      "text/plain": [
       "''"
      ]
     },
     "execution_count": 6,
     "metadata": {},
     "output_type": "execute_result"
    }
   ],
   "source": [
    "# Solution 2\n",
    "solution_2(data_lines)"
   ]
  }
 ],
 "metadata": {
  "kernelspec": {
   "display_name": "Python 3 (ipykernel)",
   "language": "python",
   "name": "python3"
  },
  "language_info": {
   "codemirror_mode": {
    "name": "ipython",
    "version": 3
   },
   "file_extension": ".py",
   "mimetype": "text/x-python",
   "name": "python",
   "nbconvert_exporter": "python",
   "pygments_lexer": "ipython3",
   "version": "3.10.13"
  }
 },
 "nbformat": 4,
 "nbformat_minor": 5
}
